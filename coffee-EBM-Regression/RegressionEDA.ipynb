{
 "cells": [
  {
   "cell_type": "code",
   "execution_count": 1,
   "id": "f7d671ea-9de6-4974-8e32-e9d5ea42b52d",
   "metadata": {},
   "outputs": [],
   "source": [
    "import warnings\n",
    "warnings.filterwarnings('ignore')\n",
    "import pandas as pd\n",
    "import sweetviz as sv"
   ]
  },
  {
   "cell_type": "code",
   "execution_count": 8,
   "id": "c1a7892c-8764-42e3-8814-a1c0ae82beb1",
   "metadata": {},
   "outputs": [],
   "source": [
    "path = \"CoffeeEconomies.xlsx\"\n",
    "\n",
    "coffee_df = pd.read_excel(path)\n",
    "\n",
    "legend = pd.read_excel(\"pwt1001.xlsx\", sheet_name=\"Legend\", header=1)\n",
    "\n",
    "\"\"\"Dropping useless meta-variables\"\"\"\n",
    "coffee_df = coffee_df.drop([\"i_cig\", \"i_xm\", \"i_xr\", \"i_outlier\", \"i_irr\", \"cor_exp\", \"statcap\"], axis=1)\n",
    "\n",
    "\"\"\"Features-only dataframe\"\"\"\n",
    "features_df = coffee_df.drop([\"year\"], axis=1) # won't use \"year\"\n",
    "features_names = features_df.columns"
   ]
  },
  {
   "cell_type": "code",
   "execution_count": 3,
   "id": "6b02a1a7-f707-4f17-a050-45b1c89c79a9",
   "metadata": {},
   "outputs": [
    {
     "name": "stdout",
     "output_type": "stream",
     "text": [
      "Features:\n",
      " Index(['country', 'coffee_val', 'land_cov', 'disaster', 'temp_chan',\n",
      "       'corrupt_control', 'govern_eff', 'pol_stab', 'reg_qual', 'rule_law',\n",
      "       'voice', 'energy', 'rgdpe', 'rgdpo', 'pop', 'emp', 'avh', 'hc', 'ccon',\n",
      "       'cda', 'cgdpe', 'cgdpo', 'cn', 'ck', 'ctfp', 'cwtfp', 'rgdpna',\n",
      "       'rconna', 'rdana', 'rnna', 'rkna', 'rtfpna', 'rwtfpna', 'labsh', 'irr',\n",
      "       'delta', 'xr', 'pl_con', 'pl_da', 'pl_gdpo', 'csh_c', 'csh_i', 'csh_g',\n",
      "       'csh_x', 'csh_m', 'csh_r', 'pl_c', 'pl_i', 'pl_g', 'pl_x', 'pl_m',\n",
      "       'pl_n', 'pl_k'],\n",
      "      dtype='object')\n"
     ]
    }
   ],
   "source": [
    "print(\"Features:\\n\", features_names)"
   ]
  },
  {
   "attachments": {},
   "cell_type": "markdown",
   "id": "dd7c8e80-6763-4ed9-a0a9-519bb3b88202",
   "metadata": {},
   "source": [
    "Датасет скомпилирован самостоятельно из открытых баз данных:  \n",
    "1) Penn World Tables (https://www.rug.nl/ggdc/productivity/pwt/) для макроэкономики; легенда в самом низу\n",
    "3) Данные ВБ по политическим переменным corrupt_control ... voice (https://www.worldbank.org/en/publication/worldwide-governance-indicators)\n",
    "4) Данные по катаклизмам disaster: EM-DAT. The international disaster database. URL:  https://www.emdat.be\n",
    "5) По климату (температура temp_chan, здоровье поверхности land_cov): IMF Climate Change Dashboard. URL: https://climatedata.imf.org/datasets/b1e6c0ea281f47b285addae0cbb28f4b_0/about\n",
    "6) Целевая переменная coffee_val взята из баз Международного торгового центра\n",
    "7) energy -- индекс энергоресурсов ЦБ Канады"
   ]
  },
  {
   "cell_type": "code",
   "execution_count": 4,
   "id": "f33e8391-3152-4758-806e-36dbe9344152",
   "metadata": {},
   "outputs": [
    {
     "name": "stdout",
     "output_type": "stream",
     "text": [
      "Shape:  (792, 53)\n"
     ]
    }
   ],
   "source": [
    "print(\"Shape: \", features_df.shape)"
   ]
  },
  {
   "cell_type": "markdown",
   "id": "2466c7ac-732a-4387-a8ea-a50009717bbf",
   "metadata": {},
   "source": [
    "53 признака -- слишком много, но десятки будут удалены / заменены на композитные индексы, поскольку слишком коррелируют (например все политические переменные будут сильно коррелировать)."
   ]
  },
  {
   "cell_type": "code",
   "execution_count": 5,
   "id": "c902b1ec-07eb-4d8a-a6f7-85af60c1cf87",
   "metadata": {},
   "outputs": [
    {
     "name": "stdout",
     "output_type": "stream",
     "text": [
      "Types:\n",
      " country             object\n",
      "coffee_val           int64\n",
      "land_cov           float64\n",
      "disaster           float64\n",
      "temp_chan          float64\n",
      "corrupt_control    float64\n",
      "govern_eff         float64\n",
      "pol_stab           float64\n",
      "reg_qual           float64\n",
      "rule_law           float64\n",
      "voice              float64\n",
      "energy             float64\n",
      "rgdpe              float64\n",
      "rgdpo              float64\n",
      "pop                float64\n",
      "emp                float64\n",
      "avh                float64\n",
      "hc                 float64\n",
      "ccon               float64\n",
      "cda                float64\n",
      "cgdpe              float64\n",
      "cgdpo              float64\n",
      "cn                 float64\n",
      "ck                 float64\n",
      "ctfp               float64\n",
      "cwtfp              float64\n",
      "rgdpna             float64\n",
      "rconna             float64\n",
      "rdana              float64\n",
      "rnna               float64\n",
      "rkna               float64\n",
      "rtfpna             float64\n",
      "rwtfpna            float64\n",
      "labsh              float64\n",
      "irr                float64\n",
      "delta              float64\n",
      "xr                 float64\n",
      "pl_con             float64\n",
      "pl_da              float64\n",
      "pl_gdpo            float64\n",
      "csh_c              float64\n",
      "csh_i              float64\n",
      "csh_g              float64\n",
      "csh_x              float64\n",
      "csh_m              float64\n",
      "csh_r              float64\n",
      "pl_c               float64\n",
      "pl_i               float64\n",
      "pl_g               float64\n",
      "pl_x               float64\n",
      "pl_m               float64\n",
      "pl_n               float64\n",
      "pl_k               float64\n",
      "dtype: object\n"
     ]
    }
   ],
   "source": [
    "print(\"Types:\\n\", features_df.dtypes)"
   ]
  },
  {
   "cell_type": "markdown",
   "id": "9b35e768-80cb-4be9-91cd-34f7103ec1ab",
   "metadata": {},
   "source": [
    "Country пойдет как категориальная переменная уже в рамках модели\n",
    "\n",
    "Таргет coffee_val целочисленный\n",
    "\n",
    "Остальные переменные вещественные\n",
    "\n",
    "Соотв. стоит задача регрессии\n",
    "\n",
    "Многие переменные нуждаются в устранении просто по причине эндогенности. Например, численность работников (emp) уже включена в численность всего населения (pop). \n",
    "То же и со всем, что связано с ВВП/совокупным спросом."
   ]
  },
  {
   "cell_type": "code",
   "execution_count": 6,
   "id": "c4467f5c-d272-4cdd-8516-d540d1e0c09f",
   "metadata": {},
   "outputs": [
    {
     "name": "stdout",
     "output_type": "stream",
     "text": [
      "NaNs:\n",
      " country              0\n",
      "coffee_val           0\n",
      "land_cov             0\n",
      "disaster           149\n",
      "temp_chan           72\n",
      "corrupt_control      0\n",
      "govern_eff           0\n",
      "pol_stab             0\n",
      "reg_qual             0\n",
      "rule_law             0\n",
      "voice                0\n",
      "energy               0\n",
      "rgdpe                0\n",
      "rgdpo                0\n",
      "pop                  0\n",
      "emp                  0\n",
      "avh                539\n",
      "hc                  18\n",
      "ccon                 0\n",
      "cda                  0\n",
      "cgdpe                0\n",
      "cgdpo                0\n",
      "cn                   0\n",
      "ck                 216\n",
      "ctfp               234\n",
      "cwtfp              234\n",
      "rgdpna               0\n",
      "rconna               0\n",
      "rdana                0\n",
      "rnna                 0\n",
      "rkna               216\n",
      "rtfpna             234\n",
      "rwtfpna            234\n",
      "labsh              216\n",
      "irr                216\n",
      "delta                0\n",
      "xr                   0\n",
      "pl_con               0\n",
      "pl_da                0\n",
      "pl_gdpo              0\n",
      "csh_c                0\n",
      "csh_i                0\n",
      "csh_g                0\n",
      "csh_x                0\n",
      "csh_m                0\n",
      "csh_r                0\n",
      "pl_c                 0\n",
      "pl_i                 0\n",
      "pl_g                 0\n",
      "pl_x                 0\n",
      "pl_m                 0\n",
      "pl_n                 0\n",
      "pl_k               216\n",
      "dtype: int64\n"
     ]
    }
   ],
   "source": [
    "print(\"NaNs:\\n\", features_df.isna().sum())"
   ]
  },
  {
   "cell_type": "markdown",
   "id": "66183b86-4ef6-4c05-abcf-0d55b923448c",
   "metadata": {},
   "source": [
    "По целевой переменной coffee_val пропусков нет -- это главное. Остальные пропуски будут вменены (только для расчета PCA / VIF). Вне этих задач вменение не требуется, т.к. используемый инструментарий (EBM) не требует ни стандартизации, ни вменения.\n",
    "\n",
    "Что может потребоваться далее? \n",
    "\n",
    "1) Немного feature engineering. Например, поделить работников на капитал, чтобы отразить \"интенсивность капитала\". + Сведение цен и политики в индексы.\n",
    "\n",
    "2) Устранение мультиколлинеарности, потому что в исходном датасете она, очевидно, огромна\n",
    "\n",
    "3) Поставки кофе это олигополия с огромным неравенством. Есть своего рода \"дисбаланс\" в задаче регрессии (есть поставщики с 100k+ поставок, а есть с парой тысяч). Мое решение: легкая винсоризация\n",
    "\n",
    "Какие переменные я считаю важными сразу сейчас (domain knowledge):\n",
    "\n",
    "1) Катастрофы (уничтожают до 90% плантаций иной раз)\n",
    "2) Трудовые ресурсы -- emp\n",
    "3) Политика\n",
    "4) Человеческий капитал\n",
    "\n",
    "Гипотезы:\n",
    "1) Положительно и значимо будут влиять на таргет: валютный курс и трудовые ресурсы\n",
    "2) Негативное влияние должны будут оказать катастрофы, процентная ставка\n",
    "3) Ожидаю большого влияния состояния земельного покрова (land_cov)"
   ]
  },
  {
   "cell_type": "code",
   "execution_count": 9,
   "id": "3ddf9258-e40a-45d4-9981-d393eeebb0af",
   "metadata": {},
   "outputs": [
    {
     "name": "stdout",
     "output_type": "stream",
     "text": [
      "|    | Identifier variables                             | Unnamed: 1                                                                                                                                                                                                                 |\n",
      "|---:|:-------------------------------------------------|:---------------------------------------------------------------------------------------------------------------------------------------------------------------------------------------------------------------------------|\n",
      "|  0 | countrycode                                      | 3-letter ISO country code                                                                                                                                                                                                  |\n",
      "|  1 | country                                          | Country name                                                                                                                                                                                                               |\n",
      "|  2 | currency_unit                                    | Currency unit                                                                                                                                                                                                              |\n",
      "|  3 | year                                             | Year                                                                                                                                                                                                                       |\n",
      "|  4 | nan                                              | nan                                                                                                                                                                                                                        |\n",
      "|  5 | Real GDP, employment and population levels       | nan                                                                                                                                                                                                                        |\n",
      "|  6 | rgdpe                                            | Expenditure-side real GDP at chained PPPs (in mil. 2017US$)                                                                                                                                                                |\n",
      "|  7 | rgdpo                                            | Output-side real GDP at chained PPPs (in mil. 2017US$)                                                                                                                                                                     |\n",
      "|  8 | pop                                              | Population (in millions)                                                                                                                                                                                                   |\n",
      "|  9 | emp                                              | Number of persons engaged (in millions)                                                                                                                                                                                    |\n",
      "| 10 | avh                                              | Average annual hours worked by persons engaged                                                                                                                                                                             |\n",
      "| 11 | hc                                               | Human capital index, based on years of schooling and returns to education; see Human capital in PWT9.                                                                                                                      |\n",
      "| 12 | nan                                              | nan                                                                                                                                                                                                                        |\n",
      "| 13 | Current price GDP, capital and TFP               | nan                                                                                                                                                                                                                        |\n",
      "| 14 | ccon                                             | Real consumption of households and government, at current PPPs (in mil. 2017US$)                                                                                                                                           |\n",
      "| 15 | cda                                              | Real domestic absorption, (real consumption plus investment), at current PPPs (in mil. 2017US$)                                                                                                                            |\n",
      "| 16 | cgdpe                                            | Expenditure-side real GDP at current PPPs (in mil. 2017US$)                                                                                                                                                                |\n",
      "| 17 | cgdpo                                            | Output-side real GDP at current PPPs (in mil. 2017US$)                                                                                                                                                                     |\n",
      "| 18 | cn                                               | Capital stock at current PPPs (in mil. 2017US$)                                                                                                                                                                            |\n",
      "| 19 | ck                                               | Capital services levels at current PPPs (USA=1)                                                                                                                                                                            |\n",
      "| 20 | ctfp                                             | TFP level at current PPPs (USA=1)                                                                                                                                                                                          |\n",
      "| 21 | cwtfp                                            | Welfare-relevant TFP levels at current PPPs (USA=1)                                                                                                                                                                        |\n",
      "| 22 | nan                                              | nan                                                                                                                                                                                                                        |\n",
      "| 23 | National accounts-based variables                | nan                                                                                                                                                                                                                        |\n",
      "| 24 | rgdpna                                           | Real GDP at constant 2017 national prices (in mil. 2017US$)                                                                                                                                                                |\n",
      "| 25 | rconna                                           | Real consumption at constant 2017 national prices (in mil. 2017US$)                                                                                                                                                        |\n",
      "| 26 | rdana                                            | Real domestic absorption at constant 2017 national prices (in mil. 2017US$)                                                                                                                                                |\n",
      "| 27 | rnna                                             | Capital stock at constant 2017 national prices (in mil. 2017US$)                                                                                                                                                           |\n",
      "| 28 | rkna                                             | Capital services at constant 2017 national prices (2017=1)                                                                                                                                                                 |\n",
      "| 29 | rtfpna                                           | TFP at constant national prices (2017=1)                                                                                                                                                                                   |\n",
      "| 30 | rwtfpna                                          | Welfare-relevant TFP at constant national prices (2017=1)                                                                                                                                                                  |\n",
      "| 31 | labsh                                            | Share of labour compensation in GDP at current national prices                                                                                                                                                             |\n",
      "| 32 | irr                                              | Real internal rate of return                                                                                                                                                                                               |\n",
      "| 33 | delta                                            | Average depreciation rate of the capital stock                                                                                                                                                                             |\n",
      "| 34 | nan                                              | nan                                                                                                                                                                                                                        |\n",
      "| 35 | Exchange rates and GDP price levels              | nan                                                                                                                                                                                                                        |\n",
      "| 36 | xr                                               | Exchange rate, national currency/USD (market+estimated)                                                                                                                                                                    |\n",
      "| 37 | pl_con                                           | Price level of CCON (PPP/XR), price level of USA GDPo in 2017=1                                                                                                                                                            |\n",
      "| 38 | pl_da                                            | Price level of CDA (PPP/XR), price level of USA GDPo in 2017=1                                                                                                                                                             |\n",
      "| 39 | pl_gdpo                                          | Price level of CGDPo (PPP/XR), price level of USA GDPo in 2017=1                                                                                                                                                           |\n",
      "| 40 | nan                                              | nan                                                                                                                                                                                                                        |\n",
      "| 41 | Data information variables                       | nan                                                                                                                                                                                                                        |\n",
      "| 42 | i_cig                                            | 0/1/2/3/4: relative price data for consumption, investment and government is extrapolated (0), benchmark (1), interpolated (2), ICP PPP timeseries: benchmark or interpolated (3) or  ICP PPP timeseries: extrapolated (4) |\n",
      "| 43 | i_xm                                             | 0/1/2: relative price data for exports and imports is extrapolated (0), benchmark (1) or interpolated (2)                                                                                                                  |\n",
      "| 44 | i_xr                                             | 0/1: the exchange rate is market-based (0) or estimated (1)                                                                                                                                                                |\n",
      "| 45 | i_outlier                                        | 0/1: the observation on pl_gdpe or pl_gdpo is not an outlier (0) or an outlier (1)                                                                                                                                         |\n",
      "| 46 | i_irr                                            | 0/1/2/3: the observation for irr is not an outlier (0), may be biased due to a low capital share (1), hit the lower bound of 1 percent (2), or is an outlier (3)                                                           |\n",
      "| 47 | cor_exp                                          | Correlation between expenditure shares of the country and the US (benchmark observations only)                                                                                                                             |\n",
      "| 48 | statcap                                          | Statistical capacity indicator (source: World Bank, developing countries only)                                                                                                                                             |\n",
      "| 49 | nan                                              | nan                                                                                                                                                                                                                        |\n",
      "| 50 | Shares in CGDPo                                  | nan                                                                                                                                                                                                                        |\n",
      "| 51 | csh_c                                            | Share of household consumption at current PPPs                                                                                                                                                                             |\n",
      "| 52 | csh_i                                            | Share of gross capital formation at current PPPs                                                                                                                                                                           |\n",
      "| 53 | csh_g                                            | Share of government consumption at current PPPs                                                                                                                                                                            |\n",
      "| 54 | csh_x                                            | Share of merchandise exports at current PPPs                                                                                                                                                                               |\n",
      "| 55 | csh_m                                            | Share of merchandise imports at current PPPs                                                                                                                                                                               |\n",
      "| 56 | csh_r                                            | Share of residual trade and GDP statistical discrepancy at current PPPs                                                                                                                                                    |\n",
      "| 57 | nan                                              | nan                                                                                                                                                                                                                        |\n",
      "| 58 | Price levels, expenditure categories and capital | nan                                                                                                                                                                                                                        |\n",
      "| 59 | pl_c                                             | Price level of household consumption,  price level of USA GDPo in 2017=1                                                                                                                                                   |\n",
      "| 60 | pl_i                                             | Price level of capital formation,  price level of USA GDPo in 2017=1                                                                                                                                                       |\n",
      "| 61 | pl_g                                             | Price level of government consumption,  price level of USA GDPo in 2017=1                                                                                                                                                  |\n",
      "| 62 | pl_x                                             | Price level of exports, price level of USA GDPo in 2017=1                                                                                                                                                                  |\n",
      "| 63 | pl_m                                             | Price level of imports, price level of USA GDPo in 2017=1                                                                                                                                                                  |\n",
      "| 64 | pl_n                                             | Price level of the capital stock, price level of USA in 2017=1                                                                                                                                                             |\n",
      "| 65 | pl_k                                             | Price level of the capital services, price level of USA=1                                                                                                                                                                  |\n"
     ]
    }
   ],
   "source": [
    "# Legend\n",
    "print(legend.to_markdown())"
   ]
  }
 ],
 "metadata": {
  "kernelspec": {
   "display_name": "Python 3 (ipykernel)",
   "language": "python",
   "name": "python3"
  },
  "language_info": {
   "codemirror_mode": {
    "name": "ipython",
    "version": 3
   },
   "file_extension": ".py",
   "mimetype": "text/x-python",
   "name": "python",
   "nbconvert_exporter": "python",
   "pygments_lexer": "ipython3",
   "version": "3.12.3"
  }
 },
 "nbformat": 4,
 "nbformat_minor": 5
}
